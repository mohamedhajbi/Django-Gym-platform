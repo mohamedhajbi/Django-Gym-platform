{
  "nbformat": 4,
  "nbformat_minor": 0,
  "metadata": {
    "colab": {
      "provenance": [],
      "include_colab_link": true
    },
    "kernelspec": {
      "name": "python3",
      "display_name": "Python 3"
    },
    "language_info": {
      "name": "python"
    }
  },
  "cells": [
    {
      "cell_type": "markdown",
      "metadata": {
        "id": "view-in-github",
        "colab_type": "text"
      },
      "source": [
        "<a href=\"https://colab.research.google.com/github/mohamedhajbi/Django-Gym-platform/blob/master/miniprojet1.ipynb\" target=\"_parent\"><img src=\"https://colab.research.google.com/assets/colab-badge.svg\" alt=\"Open In Colab\"/></a>"
      ]
    },
    {
      "cell_type": "markdown",
      "source": [
        "\n",
        "\n",
        "#Rapport détaillé de simulation de roulette\n",
        "\n",
        "---\n",
        "\n",
        "\n",
        "\n"
      ],
      "metadata": {
        "id": "QqrNEuOhJtEr"
      }
    },
    {
      "cell_type": "markdown",
      "source": [
        "##Situation réelle choisie:\n",
        "\n",
        "\n",
        "\n",
        "\n"
      ],
      "metadata": {
        "id": "gwJQC32lJx60"
      }
    },
    {
      "cell_type": "markdown",
      "source": [
        "\n",
        "> Un joueur s'installe à une table de roulette avec 1000 $ et peut miser sur un nombre entre 0 et 49. Il peut également miser sur la couleur (rouge ou noir) du numéro gagnant.\n",
        "\n",
        "\n",
        "\n",
        "\n",
        "\n"
      ],
      "metadata": {
        "id": "va3qsTjbKCrv"
      }
    },
    {
      "cell_type": "markdown",
      "source": [
        "##Modélisation probabiliste réalisée:\n",
        "\n"
      ],
      "metadata": {
        "id": "n2sorDwyKURA"
      }
    },
    {
      "cell_type": "markdown",
      "source": [
        "\n",
        "\n",
        "*   Le numéro gagnant est tiré aléatoirement entre 0 et 49 à chaque tour.\n",
        "\n",
        "*   La probabilité de gagner en misant sur un numéro est de 1/50.\n",
        "\n",
        "*   La probabilité de gagner en misant sur la couleur est de 2/3.\n",
        "\n",
        "*   La perte est totale si le joueur mise sur un numéro ou une couleur perdante.\n",
        "\n",
        "*   Le gain est de 3 fois la mise si le joueur mise sur le numéro gagnant.\n",
        "\n",
        "*   Le gain est de la moitié de la mise si le joueur mise sur la couleur gagnante\n",
        "\n",
        "\n",
        "\n",
        "\n",
        "\n",
        "\n",
        "\n",
        "\n",
        "\n",
        "\n",
        "\n"
      ],
      "metadata": {
        "id": "PpE8Ul6iKdhW"
      }
    },
    {
      "cell_type": "markdown",
      "source": [
        "##Résultats obtenus:\n",
        "\n"
      ],
      "metadata": {
        "id": "0OgiNoNsLEoC"
      }
    },
    {
      "cell_type": "markdown",
      "source": [
        "\n",
        "*   Le joueur a une chance sur 50 de gagner en misant sur un numéro.\n",
        "\n",
        "*   Le joueur a deux chances sur trois de gagner en misant sur la couleur.\n",
        "\n",
        "*   Le joueur peut espérer gagner en moyenne 1 $ par tour en misant sur la couleur.\n",
        "\n",
        "*   Le joueur peut espérer gagner en moyenne 3 $ par tour en misant sur un numéro.\n",
        "\n",
        "*   Le joueur risque de perdre tout son argent à chaque tour.\n",
        "\n",
        "\n",
        "\n"
      ],
      "metadata": {
        "id": "udDMdH8PLGYA"
      }
    },
    {
      "cell_type": "markdown",
      "source": [
        "##Distribution de Poisson:\n",
        "\n"
      ],
      "metadata": {
        "id": "FEayuuVELcXJ"
      }
    },
    {
      "cell_type": "markdown",
      "source": [
        "> La distribution de Poisson est utilisée pour modéliser le nombre de gains que le joueur peut obtenir en un nombre donné de tours. La moyenne de la distribution est égale au nombre de tours multiplié par la probabilité de gagner par tour.\n",
        "\n"
      ],
      "metadata": {
        "id": "d3V050zcLfxS"
      }
    },
    {
      "cell_type": "markdown",
      "source": [
        "##Code:"
      ],
      "metadata": {
        "id": "2tgHOCYLLn81"
      }
    },
    {
      "cell_type": "code",
      "execution_count": null,
      "metadata": {
        "colab": {
          "base_uri": "https://localhost:8080/",
          "height": 819
        },
        "id": "O1cv85q4GT6p",
        "outputId": "1392f391-01b8-4f6f-93dc-d30754120c74"
      },
      "outputs": [
        {
          "output_type": "stream",
          "name": "stdout",
          "text": [
            "Vous vous installez à la table de roulette avec 1000 $.\n",
            "Tapez le nombre sur lequel vous voulez miser (entre 0 et 49) : 25\n",
            "Tapez le montant de votre mise : 800\n",
            "La roulette tourne... ... et s'arrête sur le numéro 20\n",
            "Désolé l'ami, c'est pas pour cette fois. Vous perdez votre mise.\n",
            "Vous avez à présent 200 $\n",
            "Souhaitez-vous quitter le casino (o/n) ? N\n",
            "Tapez le nombre sur lequel vous voulez miser (entre 0 et 49) : 10\n",
            "Tapez le montant de votre mise : 100\n",
            "La roulette tourne... ... et s'arrête sur le numéro 7\n",
            "Désolé l'ami, c'est pas pour cette fois. Vous perdez votre mise.\n",
            "Vous avez à présent 100 $\n",
            "Souhaitez-vous quitter le casino (o/n) ? N\n",
            "Tapez le nombre sur lequel vous voulez miser (entre 0 et 49) : 5\n",
            "Tapez le montant de votre mise : 5\n",
            "La roulette tourne... ... et s'arrête sur le numéro 13\n",
            "Vous avez misé sur la bonne couleur. Vous obtenez 3.0 $\n",
            "Vous avez à présent 103.0 $\n",
            "Souhaitez-vous quitter le casino (o/n) ? O\n",
            "Vous quittez le casino avec vos gains.\n"
          ]
        },
        {
          "output_type": "display_data",
          "data": {
            "text/plain": [
              "<Figure size 640x480 with 1 Axes>"
            ],
            "image/png": "[encoded data removed]"
          },
          "metadata": {}
        }
      ],
      "source": [
        "import matplotlib.pyplot as plt\n",
        "from scipy.stats import poisson\n",
        "import numpy as np\n",
        "\n",
        "argent = 1000\n",
        "continuer_partie = True\n",
        "\n",
        "print(\"Vous vous installez à la table de roulette avec\", argent, \"$.\")\n",
        "\n",
        "while continuer_partie:\n",
        "    nombre_mise = -1\n",
        "    while nombre_mise < 0 or nombre_mise > 49:\n",
        "        nombre_mise = input(\"Tapez le nombre sur lequel vous voulez miser (entre 0 et 49) : \")\n",
        "        try:\n",
        "            nombre_mise = int(nombre_mise)\n",
        "        except ValueError:\n",
        "            print(\"Vous n'avez pas saisi de nombre\")\n",
        "            nombre_mise = -1\n",
        "            continue\n",
        "        if nombre_mise < 0:\n",
        "            print(\"Ce nombre est négatif\")\n",
        "        if nombre_mise > 49:\n",
        "            print(\"Ce nombre est supérieur à 49\")\n",
        "    mise = 0\n",
        "    while mise <= 0 or mise > argent:\n",
        "        mise = input(\"Tapez le montant de votre mise : \")\n",
        "        try:\n",
        "            mise = int(mise)\n",
        "        except ValueError:\n",
        "            print(\"Vous n'avez pas saisi de nombre\")\n",
        "            mise = -1\n",
        "            continue\n",
        "        if mise <= 0:\n",
        "            print(\"La mise saisie est négative ou nulle.\")\n",
        "        if mise > argent:\n",
        "            print(\"Vous ne pouvez miser autant, vous n'avez que\", argent, \"$\")\n",
        "    numero_gagnant = np.random.randint(50)\n",
        "    print(\"La roulette tourne... ... et s'arrête sur le numéro\", numero_gagnant)\n",
        "    if numero_gagnant == nombre_mise:\n",
        "        print(\"Félicitations ! Vous obtenez\", mise * 3, \"$ !\")\n",
        "        argent += mise * 3\n",
        "    elif numero_gagnant % 2 == nombre_mise % 2: # ils sont de la même couleur\n",
        "        mise = np.ceil(mise * 0.5)\n",
        "        print(\"Vous avez misé sur la bonne couleur. Vous obtenez\", mise, \"$\")\n",
        "        argent += mise\n",
        "    else:\n",
        "        print(\"Désolé l'ami, c'est pas pour cette fois. Vous perdez votre mise.\")\n",
        "        argent -= mise\n",
        "    if argent <= 0:\n",
        "        print(\"Vous êtes ruiné ! C'est la fin de la partie.\")\n",
        "        continuer_partie = False\n",
        "    else:\n",
        "        print(\"Vous avez à présent\", argent, \"$\")\n",
        "        quitter = input(\"Souhaitez-vous quitter le casino (o/n) ? \")\n",
        "        if quitter.lower() == \"o\":\n",
        "            print(\"Vous quittez le casino avec vos gains.\")\n",
        "            continuer_partie = False\n",
        "\n",
        "lambda_ = 1 / 50 * 1000  # Lambda est la moyenne de la distribution de Poisson\n",
        "x = np.arange(0, 10)\n",
        "probabilites_poisson = poisson.pmf(x, lambda_)\n",
        "\n",
        "plt.bar(x, probabilites_poisson)\n",
        "plt.title('Distribution de Poisson pour la roulette')\n",
        "plt.xlabel('Nombre de gains')\n",
        "plt.ylabel('Probabilité')\n",
        "plt.show()\n"
      ]
    }
  ]
}